{
  "nbformat": 4,
  "nbformat_minor": 0,
  "metadata": {
    "colab": {
      "name": "Untitled6.ipynb",
      "provenance": [],
      "authorship_tag": "ABX9TyMgne9JWP4A0bCF63+YRpb8",
      "include_colab_link": true
    },
    "kernelspec": {
      "name": "python3",
      "display_name": "Python 3"
    }
  },
  "cells": [
    {
      "cell_type": "markdown",
      "metadata": {
        "id": "view-in-github",
        "colab_type": "text"
      },
      "source": [
        "<a href=\"https://colab.research.google.com/github/ruanluciano/mini-curso-de-python/blob/master/aula7.ipynb\" target=\"_parent\"><img src=\"https://colab.research.google.com/assets/colab-badge.svg\" alt=\"Open In Colab\"/></a>"
      ]
    },
    {
      "cell_type": "code",
      "metadata": {
        "id": "REDpSRD9nErv",
        "colab_type": "code",
        "colab": {
          "base_uri": "https://localhost:8080/",
          "height": 69
        },
        "outputId": "a25fd2aa-0293-4684-cf3e-6179eef9a554"
      },
      "source": [
        "# Aula - Ep. #07 - Curso de #IP\n",
        "# Função input()\n",
        "# Github do mini curso: https://github.com/clovesrocha/minicursoip\n",
        "# Prepara o café e vamos simbora!\n",
        "\n",
        "#nome = input('digite seu nome')\n",
        "#sobrenome = input('digite seu sobre nome')\n",
        "#print(f'Seu nome e sobrenome é {nome} {sobrenome}')\n",
        "#ruanluciano"
      ],
      "execution_count": 5,
      "outputs": [
        {
          "output_type": "stream",
          "text": [
            "digite seu nome Ruan\n",
            "digite seu sobre nome Luciano\n",
            "Seu nome e sobrenome é  Ruan  Luciano\n"
          ],
          "name": "stdout"
        }
      ]
    }
  ]
}