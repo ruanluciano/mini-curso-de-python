{
  "nbformat": 4,
  "nbformat_minor": 0,
  "metadata": {
    "colab": {
      "name": "Untitled2.ipynb",
      "provenance": [],
      "authorship_tag": "ABX9TyMA/F7z3A2DgO8i1or7Ap2X",
      "include_colab_link": true
    },
    "kernelspec": {
      "name": "python3",
      "display_name": "Python 3"
    }
  },
  "cells": [
    {
      "cell_type": "markdown",
      "metadata": {
        "id": "view-in-github",
        "colab_type": "text"
      },
      "source": [
        "<a href=\"https://colab.research.google.com/github/ruanluciano/mini-curso-de-python/blob/master/aula4.ipynb\" target=\"_parent\"><img src=\"https://colab.research.google.com/assets/colab-badge.svg\" alt=\"Open In Colab\"/></a>"
      ]
    },
    {
      "cell_type": "code",
      "metadata": {
        "id": "QV4zWxGA1Vq3",
        "colab_type": "code",
        "colab": {}
      },
      "source": [
        "# Aula - Ep. #04 - Mini curso de #IP\n",
        "# Operadores Racionais Simples\n",
        "# GitHub do Mini Curso: https://github.com/clovesrocha/minicursoip\n",
        "\n",
        "# > maior que\n",
        "# < menor que\n",
        "# == igual a (comparação)\n",
        "\n",
        "# x = 3>2\n",
        "# print (x)\n",
        "\n",
        "# c = 3<2\n",
        "# print (c)\n",
        "\n",
        "#r = 5==5\n",
        "#print (r)"
      ],
      "execution_count": null,
      "outputs": []
    }
  ]
}