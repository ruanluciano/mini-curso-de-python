{
  "nbformat": 4,
  "nbformat_minor": 0,
  "metadata": {
    "colab": {
      "name": "Untitled1.ipynb",
      "provenance": [],
      "authorship_tag": "ABX9TyMA/F7z3A2DgO8i1or7Ap2X",
      "include_colab_link": true
    },
    "kernelspec": {
      "name": "python3",
      "display_name": "Python 3"
    }
  },
  "cells": [
    {
      "cell_type": "markdown",
      "metadata": {
        "id": "view-in-github",
        "colab_type": "text"
      },
      "source": [
        "<a href=\"https://colab.research.google.com/github/ruanluciano/mini-curso-de-python/blob/master/Untitled1.ipynb\" target=\"_parent\"><img src=\"https://colab.research.google.com/assets/colab-badge.svg\" alt=\"Open In Colab\"/></a>"
      ]
    },
    {
      "cell_type": "code",
      "metadata": {
        "id": "eTkvBNAiv1dH",
        "colab_type": "code",
        "colab": {
          "base_uri": "https://localhost:8080/",
          "height": 34
        },
        "outputId": "523e878c-820b-4d8c-9649-763d7d57d58a"
      },
      "source": [
        "# Aula - Ep. #04 - Mini curso de #IP\n",
        "# Operadores Racionais Simples\n",
        "# GitHub do Mini Curso: https://github.com/clovesrocha/minicursoip\n",
        "\n",
        "# > maior que\n",
        "# < menor que\n",
        "# == igual a (comparação)\n",
        "\n",
        "# x = 3>2\n",
        "# print (x)\n",
        "\n",
        "# c = 3<2\n",
        "# print (c)\n",
        "\n",
        "#r = 5==5\n",
        "#print (r)"
      ],
      "execution_count": 3,
      "outputs": [
        {
          "output_type": "stream",
          "text": [
            "True\n"
          ],
          "name": "stdout"
        }
      ]
    }
  ]
}