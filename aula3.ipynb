{
  "nbformat": 4,
  "nbformat_minor": 0,
  "metadata": {
    "colab": {
      "name": "Untitled3.ipynb",
      "provenance": [],
      "authorship_tag": "ABX9TyPpuWlUAvtRRaH5x1ZYmuol",
      "include_colab_link": true
    },
    "kernelspec": {
      "name": "python3",
      "display_name": "Python 3"
    }
  },
  "cells": [
    {
      "cell_type": "markdown",
      "metadata": {
        "id": "view-in-github",
        "colab_type": "text"
      },
      "source": [
        "<a href=\"https://colab.research.google.com/github/ruanluciano/mini-curso-de-python/blob/master/aula3.ipynb\" target=\"_parent\"><img src=\"https://colab.research.google.com/assets/colab-badge.svg\" alt=\"Open In Colab\"/></a>"
      ]
    },
    {
      "cell_type": "code",
      "metadata": {
        "id": "W253AJbu203K",
        "colab_type": "code",
        "colab": {}
      },
      "source": [
        "# Aula - Ep. #03 - Curso de #IP\n",
        "# Operadores Aritiméticos em Python\n",
        "# Github do mini curso: https://github.com/clovesrocha/minicursoip\n",
        "\n",
        "# + \n",
        "# -\n",
        "# *\n",
        "# /\n",
        "# **\n",
        "# //\n",
        "# %\n",
        "\n",
        "#c = 2**3\n",
        "#print(r)\n",
        "#r = 10//3\n",
        "#print(r)\n",
        "#r = 10%3\n",
        "#print(r)\n",
        "#c = 3*3\n",
        "#print(c)\n",
        "#ruanluciano\n",
        "\n",
        "9\n",
        "\n"
      ],
      "execution_count": null,
      "outputs": []
    }
  ]
}