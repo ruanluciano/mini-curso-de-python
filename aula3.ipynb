{
  "nbformat": 4,
  "nbformat_minor": 0,
  "metadata": {
    "colab": {
      "name": "aula3.ipynb",
      "provenance": [],
      "authorship_tag": "ABX9TyPKpzfp/Rapumx0HAm6/B2q",
      "include_colab_link": true
    },
    "kernelspec": {
      "name": "python3",
      "display_name": "Python 3"
    }
  },
  "cells": [
    {
      "cell_type": "markdown",
      "metadata": {
        "id": "view-in-github",
        "colab_type": "text"
      },
      "source": [
        "<a href=\"https://colab.research.google.com/github/ruanluciano/mini-curso-de-python/blob/master/aula3.ipynb\" target=\"_parent\"><img src=\"https://colab.research.google.com/assets/colab-badge.svg\" alt=\"Open In Colab\"/></a>"
      ]
    },
    {
      "cell_type": "code",
      "metadata": {
        "id": "CrjZH1UmcdCe",
        "colab_type": "code",
        "colab": {
          "base_uri": "https://localhost:8080/",
          "height": 34
        },
        "outputId": "7e40659f-ded8-4a90-db4d-b0bdd7a6e1af"
      },
      "source": [
        "# Aula - Ep. #03 - Curso de #IP\n",
        "# Operadores Aritiméticos em Python\n",
        "# Github do mini curso: https://github.com/clovesrocha/minicursoip\n",
        "\n",
        "# + \n",
        "# -\n",
        "# *\n",
        "# /\n",
        "# **\n",
        "# //\n",
        "# %\n",
        "\n",
        "#c = 2**3\n",
        "#print(r)\n",
        "#r = 10//3\n",
        "#print(r)\n",
        "#r = 10%3\n",
        "#print(r)\n",
        "#c = 3*3\n",
        "#print(c)\n",
        "#ruanluciano"
      ],
      "execution_count": 4,
      "outputs": [
        {
          "output_type": "stream",
          "text": [
            "9\n"
          ],
          "name": "stdout"
        }
      ]
    }
  ]
}