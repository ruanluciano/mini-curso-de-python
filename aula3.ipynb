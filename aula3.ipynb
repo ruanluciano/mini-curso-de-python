{
  "nbformat": 4,
  "nbformat_minor": 0,
  "metadata": {
    "colab": {
      "name": "aula3.ipynb",
      "provenance": [],
      "authorship_tag": "ABX9TyMefan+e3aodPpVf6315rcs",
      "include_colab_link": true
    },
    "kernelspec": {
      "name": "python3",
      "display_name": "Python 3"
    }
  },
  "cells": [
    {
      "cell_type": "markdown",
      "metadata": {
        "id": "view-in-github",
        "colab_type": "text"
      },
      "source": [
        "<a href=\"https://colab.research.google.com/github/ruanluciano/mini-curso-de-python/blob/master/aula3.ipynb\" target=\"_parent\"><img src=\"https://colab.research.google.com/assets/colab-badge.svg\" alt=\"Open In Colab\"/></a>"
      ]
    },
    {
      "cell_type": "code",
      "metadata": {
        "id": "CrjZH1UmcdCe",
        "colab_type": "code",
        "colab": {}
      },
      "source": [
        "# Aula - Ep. #03 - Curso de #IP\n",
        "# Operadores Aritiméticos em Python\n",
        "# Github do mini curso: https://github.com/clovesrocha/minicursoip\n",
        "#ruanluciano\n",
        "\n"
      ],
      "execution_count": null,
      "outputs": []
    }
  ]
}