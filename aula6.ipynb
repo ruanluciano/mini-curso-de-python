{
  "nbformat": 4,
  "nbformat_minor": 0,
  "metadata": {
    "colab": {
      "name": "Untitled5.ipynb",
      "provenance": [],
      "authorship_tag": "ABX9TyPFScPezsPkp6sgylhRAtZw",
      "include_colab_link": true
    },
    "kernelspec": {
      "name": "python3",
      "display_name": "Python 3"
    }
  },
  "cells": [
    {
      "cell_type": "markdown",
      "metadata": {
        "id": "view-in-github",
        "colab_type": "text"
      },
      "source": [
        "<a href=\"https://colab.research.google.com/github/ruanluciano/mini-curso-de-python/blob/master/aula6.ipynb\" target=\"_parent\"><img src=\"https://colab.research.google.com/assets/colab-badge.svg\" alt=\"Open In Colab\"/></a>"
      ]
    },
    {
      "cell_type": "code",
      "metadata": {
        "id": "BwmnmBMl8lIv",
        "colab_type": "code",
        "colab": {
          "base_uri": "https://localhost:8080/",
          "height": 34
        },
        "outputId": "43f98823-5495-4beb-b6a0-61415a0ffdd6"
      },
      "source": [
        "# Aula - Ep. #06 - Curso de #IP\n",
        "# Função do print()\n",
        "# Github do mini curso: https://github.com/clovesrocha/minicursoip\n",
        "# Prepara o café e vamos simbora!\n",
        "\n",
        "#print('Olá Mundo!' , 2 , 3 , 4 , 5 , true , false)\n",
        "\n",
        "#n = 2\n",
        "#print (f'O número { n } é par.')\n",
        "#ruanluciano"
      ],
      "execution_count": 8,
      "outputs": [
        {
          "output_type": "stream",
          "text": [
            "O número 2 é par.\n"
          ],
          "name": "stdout"
        }
      ]
    }
  ]
}