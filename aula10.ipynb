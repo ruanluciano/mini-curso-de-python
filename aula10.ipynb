{
  "nbformat": 4,
  "nbformat_minor": 0,
  "metadata": {
    "colab": {
      "name": "Untitled10.ipynb",
      "provenance": [],
      "authorship_tag": "ABX9TyOd+TzN7Y/Te8SlHvzl/EEP",
      "include_colab_link": true
    },
    "kernelspec": {
      "name": "python3",
      "display_name": "Python 3"
    }
  },
  "cells": [
    {
      "cell_type": "markdown",
      "metadata": {
        "id": "view-in-github",
        "colab_type": "text"
      },
      "source": [
        "<a href=\"https://colab.research.google.com/github/ruanluciano/mini-curso-de-python/blob/master/aula10.ipynb\" target=\"_parent\"><img src=\"https://colab.research.google.com/assets/colab-badge.svg\" alt=\"Open In Colab\"/></a>"
      ]
    },
    {
      "cell_type": "code",
      "metadata": {
        "id": "Vw3Z2d7d5Yy6",
        "colab_type": "code",
        "colab": {
          "base_uri": "https://localhost:8080/",
          "height": 52
        },
        "outputId": "03c5e86e-6921-4c34-d702-4e75465361f5"
      },
      "source": [
        "# Aula - Ep. #010 - Curso de #IP\n",
        "# Operadores Lógicos: and; or; not\n",
        "# Github do mini curso: https://github.com/clovesrocha/minicursoip\n",
        "# Prepara o café e vamos simbora!\n",
        "\n",
        "#Operador and\n",
        "#resposta = int(input('Qual é a sua idade? '))\n",
        "#if resposta >=18 and resposta <=65:\n",
        "#  print('Você é obrigado a votar!')\n",
        "#else:\n",
        " #   print('Você não é obrigado a votar!')\n",
        "\n",
        "# operador or\n",
        "#print('1. idoso')\n",
        "#print('2. gestante')\n",
        "#print('3. cadeirante')\n",
        "#print('4. atendimento comum')\n",
        "#resposta = int( input('Selecione uma opção:'))\n",
        "#if (resposta==1) or (resposta==2) or (resposta==3) :\n",
        " # print('Vocẽ tem direito a fila prioritária!')\n",
        "#else:\n",
        " # print('aguarde sua vez na fila comum')\n",
        "\n",
        " #Operador not(ele pega uma expressão e a inverte)\n",
        "#a = 18\n",
        "#b = 9\n",
        "#print(not a < b)\n",
        "\n",
        "#outro exemplo not\n",
        "\n",
        "#agencia = input('Qual é a sigla da agência espacial norte-americana?')\n",
        "\n",
        "#if not agencia=='NASA':\n",
        "#  print('Errado, tente novamente')\n",
        "#else:\n",
        "#    print('Correto, NASA')\n",
        "#ruanluciano"
      ],
      "execution_count": 20,
      "outputs": [
        {
          "output_type": "stream",
          "text": [
            "Qual é a sigla da agência espacial norte-americana?NASA\n",
            "Correto, NASA\n"
          ],
          "name": "stdout"
        }
      ]
    }
  ]
}