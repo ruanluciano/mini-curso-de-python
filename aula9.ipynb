{
  "nbformat": 4,
  "nbformat_minor": 0,
  "metadata": {
    "colab": {
      "name": "Untitled9.ipynb",
      "provenance": [],
      "authorship_tag": "ABX9TyMXdSJOeKVszXcKtqCi9asP",
      "include_colab_link": true
    },
    "kernelspec": {
      "name": "python3",
      "display_name": "Python 3"
    }
  },
  "cells": [
    {
      "cell_type": "markdown",
      "metadata": {
        "id": "view-in-github",
        "colab_type": "text"
      },
      "source": [
        "<a href=\"https://colab.research.google.com/github/ruanluciano/mini-curso-de-python/blob/master/aula9.ipynb\" target=\"_parent\"><img src=\"https://colab.research.google.com/assets/colab-badge.svg\" alt=\"Open In Colab\"/></a>"
      ]
    },
    {
      "cell_type": "code",
      "metadata": {
        "id": "IiZj5KK1z2wI",
        "colab_type": "code",
        "colab": {
          "base_uri": "https://localhost:8080/",
          "height": 52
        },
        "outputId": "609a0392-3dd2-44ad-8699-c2684cdbc886"
      },
      "source": [
        "# Aula - Ep. #09 - Curso de #IP\n",
        "# Estruturas Condicionais Aninhadas e elif\n",
        "# Github do mini curso: https://github.com/clovesrocha/minicursoip\n",
        "# Prepara o café e vamos simbora!\n",
        "\n",
        "#n = float(input('Digite uma nota: '))\n",
        "#if n >= 6:\n",
        "# print('Provado')\n",
        "#elif n == 6:\n",
        "#   print('Recuperação')\n",
        "#else:\n",
        "#     print('Reprovado')\n",
        "#ruanluciano"
      ],
      "execution_count": 9,
      "outputs": [
        {
          "output_type": "stream",
          "text": [
            "Digite uma nota: 5\n",
            "Reprovado\n"
          ],
          "name": "stdout"
        }
      ]
    }
  ]
}