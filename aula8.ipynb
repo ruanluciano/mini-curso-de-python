{
  "nbformat": 4,
  "nbformat_minor": 0,
  "metadata": {
    "colab": {
      "name": "Untitled8.ipynb",
      "provenance": [],
      "authorship_tag": "ABX9TyMGCx1y3bvAZa979UG9Y0SN",
      "include_colab_link": true
    },
    "kernelspec": {
      "name": "python3",
      "display_name": "Python 3"
    }
  },
  "cells": [
    {
      "cell_type": "markdown",
      "metadata": {
        "id": "view-in-github",
        "colab_type": "text"
      },
      "source": [
        "<a href=\"https://colab.research.google.com/github/ruanluciano/mini-curso-de-python/blob/master/aula8.ipynb\" target=\"_parent\"><img src=\"https://colab.research.google.com/assets/colab-badge.svg\" alt=\"Open In Colab\"/></a>"
      ]
    },
    {
      "cell_type": "code",
      "metadata": {
        "id": "0udfb_MMxPF5",
        "colab_type": "code",
        "colab": {
          "base_uri": "https://localhost:8080/",
          "height": 52
        },
        "outputId": "bf090b74-15b2-444a-91ad-b7e97a5fce05"
      },
      "source": [
        "# Aula - Ep. #08 - Curso de #IP\n",
        "# Estruturas racionais e Repetições if e else\n",
        "# Github do mini curso: https://github.com/clovesrocha/minicursoip\n",
        "# Prepara o café e vamos simbora!\n",
        "\n",
        "#num = int(input('digite um numero: '))\n",
        "#if num % 2 == 0:\n",
        " # print(f'O numero {num} é par.')\n",
        "#else:\n",
        " #   print(f'O numero {num} é impar.')\n",
        " #ruanluciano"
      ],
      "execution_count": 5,
      "outputs": [
        {
          "output_type": "stream",
          "text": [
            "digite um numero: 9\n",
            "O numero 9 é impar.\n"
          ],
          "name": "stdout"
        }
      ]
    }
  ]
}