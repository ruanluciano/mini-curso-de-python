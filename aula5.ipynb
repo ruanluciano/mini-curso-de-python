{
  "nbformat": 4,
  "nbformat_minor": 0,
  "metadata": {
    "colab": {
      "name": "Untitled4.ipynb",
      "provenance": [],
      "authorship_tag": "ABX9TyNlgKC92wH8hC5FQu5tC/5T",
      "include_colab_link": true
    },
    "kernelspec": {
      "name": "python3",
      "display_name": "Python 3"
    }
  },
  "cells": [
    {
      "cell_type": "markdown",
      "metadata": {
        "id": "view-in-github",
        "colab_type": "text"
      },
      "source": [
        "<a href=\"https://colab.research.google.com/github/ruanluciano/mini-curso-de-python/blob/master/aula5.ipynb\" target=\"_parent\"><img src=\"https://colab.research.google.com/assets/colab-badge.svg\" alt=\"Open In Colab\"/></a>"
      ]
    },
    {
      "cell_type": "code",
      "metadata": {
        "id": "KVsILyuT3LsF",
        "colab_type": "code",
        "colab": {
          "base_uri": "https://localhost:8080/",
          "height": 34
        },
        "outputId": "7533d770-bbf0-4653-940a-1febdd240756"
      },
      "source": [
        "# Aula - Ep. #05 - Curso de #IP\n",
        "# Operadores Relacionais Compostos\n",
        "# Github do mini curso: https://github.com/clovesrocha/minicursoip\n",
        "\n",
        "#Prepara o café e vamos simbora!\n",
        "\n",
        "# >= maior ou igual a \n",
        "# <= menor ou igual a\n",
        "# != diferente de\n",
        "\n",
        "#c = 4\n",
        "#r = 3\n",
        "#print( c >= r )\n",
        "\n",
        "#x = 9\n",
        "#y = 6\n",
        "#print(x <= y)\n",
        "\n",
        "#x = 6\n",
        "#y = 7\n",
        "#print (x != y)\n",
        "#ruanluciano\n"
      ],
      "execution_count": 13,
      "outputs": [
        {
          "output_type": "stream",
          "text": [
            "True\n"
          ],
          "name": "stdout"
        }
      ]
    },
    {
      "cell_type": "code",
      "metadata": {
        "id": "LHkisPRB49wF",
        "colab_type": "code",
        "colab": {}
      },
      "source": [
        ""
      ],
      "execution_count": null,
      "outputs": []
    }
  ]
}